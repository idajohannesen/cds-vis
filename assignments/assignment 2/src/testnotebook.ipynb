{
 "cells": [
  {
   "cell_type": "markdown",
   "metadata": {},
   "source": [
    "pip install --upgrade pip\n",
    "sudo apt-get update\n",
    "sudo apt-get install -y python3-opencv\n",
    "pip install tensorflow opencv-python seaborn pandas scikit-learn matplotlib numpy"
   ]
  },
  {
   "cell_type": "code",
   "execution_count": null,
   "metadata": {},
   "outputs": [],
   "source": [
    "import os\n",
    "import sys\n",
    "sys.path.append(\"../../..\")\n",
    "# openCV\n",
    "import cv2\n",
    "# numpy\n",
    "import numpy as np\n",
    "# matplotlib\n",
    "import matplotlib.pyplot as plt\n",
    "# class util functions\n",
    "from utils.imutils import jimshow as show\n",
    "from utils.imutils import jimshow_channel as show_channel\n",
    "import utils.classifier_utils as clf_util\n",
    "\n",
    "# Import sklearn metrics\n",
    "from sklearn import metrics\n",
    "from sklearn.datasets import fetch_openml\n",
    "from sklearn.model_selection import train_test_split\n",
    "from sklearn.linear_model import LogisticRegression\n",
    "from sklearn.neural_network import MLPClassifier\n",
    "from sklearn.metrics import accuracy_score\n",
    "\n",
    "# cifar10 dataset\n",
    "from tensorflow.keras.datasets import cifar10"
   ]
  },
  {
   "cell_type": "code",
   "execution_count": null,
   "metadata": {},
   "outputs": [],
   "source": [
    "# loading the cifar10 dataset\n",
    "(X_train, y_train), (X_test, y_test) = cifar10.load_data()"
   ]
  },
  {
   "cell_type": "code",
   "execution_count": null,
   "metadata": {},
   "outputs": [],
   "source": [
    "X_train_list=[]\n",
    "X_test_list=[]\n",
    "\n",
    "for image in X_test: # preprocessing the testing images\n",
    "    gray_test = cv2.cvtColor(image, cv2.COLOR_BGR2GRAY) # convert to grayscale\n",
    "    normalized = gray_test/255 # normalize\n",
    "    X_test_list.append(normalized) # add to list\n",
    "X_preprocess_test_array = np.array(X_test_list) # turn list back into an array\n",
    "# reshape\n",
    "X_preprocess_test = X_preprocess_test_array.reshape(-1, 1024)\n",
    "\n",
    "for image in X_train: # preprocessing the training images\n",
    "    gray_train = cv2.cvtColor(image, cv2.COLOR_BGR2GRAY) # convert to grayscale\n",
    "    normalized = gray_train/255 # normalize\n",
    "    X_train_list.append(normalized) # add to list\n",
    "X_preprocess_train_array = np.array(X_train_list) # turn list back into an array\n",
    "# reshape\n",
    "X_preprocess_train = X_preprocess_train_array.reshape(-1, 1024)\n",
    "\n",
    "X_preprocess_train.shape\n",
    "X_preprocess_test.shape"
   ]
  },
  {
   "cell_type": "code",
   "execution_count": null,
   "metadata": {},
   "outputs": [],
   "source": [
    "# View an image\n",
    "# plt.imshow(X_preprocess_train[0])\n",
    "# plt.show()"
   ]
  },
  {
   "cell_type": "code",
   "execution_count": null,
   "metadata": {},
   "outputs": [],
   "source": [
    "# making a logistic regression classifier\n",
    "clf = LogisticRegression(tol=0.1, \n",
    "                         solver='saga',\n",
    "                         multi_class='multinomial').fit(X_preprocess_train, y_train)"
   ]
  },
  {
   "cell_type": "code",
   "execution_count": null,
   "metadata": {},
   "outputs": [],
   "source": [
    "# defining labels\n",
    "classes = ['airplane', 'automobile', 'bird', 'cat', 'deer', 'dog', 'frog', 'horse', 'ship', 'truck']"
   ]
  },
  {
   "cell_type": "code",
   "execution_count": null,
   "metadata": {},
   "outputs": [],
   "source": [
    "# testing accuracy and making a classification report for the logistic regression classifier\n",
    "y_pred = clf.predict(X_preprocess_test)\n",
    "cm = metrics.classification_report(y_test, y_pred, target_names=classes)\n",
    "print(cm)\n",
    "\n",
    "# saving classification report as a .txt file\n",
    "text_file = open(r'../output/LR_classification_report.txt', 'w')\n",
    "text_file.write(cm)\n",
    "text_file.close()"
   ]
  },
  {
   "cell_type": "code",
   "execution_count": null,
   "metadata": {},
   "outputs": [],
   "source": [
    "sliceddataX = X_preprocess_train[0:1000]\n",
    "sliceddataXtest = X_preprocess_test[0:1000]\n",
    "sliceddataY = y_train[0:1000]\n",
    "sliceddataYtest = y_test[0:1000]"
   ]
  },
  {
   "cell_type": "code",
   "execution_count": null,
   "metadata": {},
   "outputs": [],
   "source": [
    "# neural network classifier\n",
    "\n",
    "#create the classifier\n",
    "classifier = MLPClassifier(activation = \"logistic\",\n",
    "                            hidden_layer_sizes = (2,), # 20 neurons in our hidden layer\n",
    "                            max_iter=500, # 1000 epochs\n",
    "                            random_state = 42) # random state for reproducibility\n",
    "\n",
    "# fit the classifier to the data\n",
    "classifier.fit(sliceddataX, sliceddataY)"
   ]
  },
  {
   "cell_type": "code",
   "execution_count": null,
   "metadata": {},
   "outputs": [],
   "source": [
    "# get predictions\n",
    "y_pred = classifier.predict(sliceddataXtest)\n",
    "\n",
    "# use confusion matrix to check performance\n",
    "#metrics.ConfusionMatrixDisplay.from_estimator(classifier,           # the classifier name\n",
    "                                            #sliceddataX,            # the training features\n",
    "                                            #sliceddataY,            # the training labels\n",
    "                                            #cmap=plt.cm.Blues,      # make the colours prettier\n",
    "                                            #labels=[\"FAKE\", \"REAL\"])# the labels in the data arranged alphabetically\n",
    "\n",
    "# get classification report\n",
    "classifier_metrics = metrics.classification_report(sliceddataYtest, y_pred, target_names = classes)\n",
    "print(classifier_metrics)\n",
    "\n",
    "# saving classification report as a .txt file\n",
    "text_file = open(r'../output/MLP_classification_report.txt', 'w')\n",
    "text_file.write(classifier_metrics)\n",
    "text_file.close()\n",
    "\n",
    "# plotting loss curves. should ideally have a smooth, steep downwards slope which ends in a plateau\n",
    "plt.plot(classifier.loss_curve_)\n",
    "plt.title(\"Loss curve during training\", fontsize=14)\n",
    "plt.xlabel('Iterations')\n",
    "plt.ylabel('Loss score')\n",
    "# save output\n",
    "plt.savefig('../output/loss_curve.png')\n",
    "plt.show()"
   ]
  },
  {
   "cell_type": "code",
   "execution_count": 1,
   "metadata": {},
   "outputs": [
    {
     "name": "stderr",
     "output_type": "stream",
     "text": [
      "2024-03-12 15:43:15.840573: I external/local_tsl/tsl/cuda/cudart_stub.cc:32] Could not find cuda drivers on your machine, GPU will not be used.\n",
      "2024-03-12 15:43:15.844458: I external/local_tsl/tsl/cuda/cudart_stub.cc:32] Could not find cuda drivers on your machine, GPU will not be used.\n",
      "2024-03-12 15:43:15.894714: I tensorflow/core/platform/cpu_feature_guard.cc:210] This TensorFlow binary is optimized to use available CPU instructions in performance-critical operations.\n",
      "To enable the following instructions: AVX2 AVX512F FMA, in other operations, rebuild TensorFlow with the appropriate compiler flags.\n",
      "2024-03-12 15:43:16.781864: W tensorflow/compiler/tf2tensorrt/utils/py_utils.cc:38] TF-TRT Warning: Could not find TensorRT\n",
      "/home/ucloud/.local/lib/python3.10/site-packages/sklearn/utils/validation.py:1300: DataConversionWarning: A column-vector y was passed when a 1d array was expected. Please change the shape of y to (n_samples, ), for example using ravel().\n",
      "  y = column_or_1d(y, warn=True)\n"
     ]
    },
    {
     "name": "stdout",
     "output_type": "stream",
     "text": [
      "              precision    recall  f1-score   support\n",
      "\n",
      "    airplane       0.34      0.38      0.36      1000\n",
      "  automobile       0.36      0.39      0.37      1000\n",
      "        bird       0.27      0.20      0.23      1000\n",
      "         cat       0.22      0.15      0.18      1000\n",
      "        deer       0.25      0.22      0.24      1000\n",
      "         dog       0.29      0.31      0.30      1000\n",
      "        frog       0.28      0.33      0.30      1000\n",
      "       horse       0.31      0.31      0.31      1000\n",
      "        ship       0.34      0.40      0.37      1000\n",
      "       truck       0.39      0.44      0.41      1000\n",
      "\n",
      "    accuracy                           0.31     10000\n",
      "   macro avg       0.31      0.31      0.31     10000\n",
      "weighted avg       0.31      0.31      0.31     10000\n",
      "\n"
     ]
    }
   ],
   "source": [
    "from logistic_regression import logisticregression\n",
    "logisticregression()"
   ]
  }
 ],
 "metadata": {
  "kernelspec": {
   "display_name": "Python 3",
   "language": "python",
   "name": "python3"
  },
  "language_info": {
   "codemirror_mode": {
    "name": "ipython",
    "version": 3
   },
   "file_extension": ".py",
   "mimetype": "text/x-python",
   "name": "python",
   "nbconvert_exporter": "python",
   "pygments_lexer": "ipython3",
   "version": "3.10.12"
  }
 },
 "nbformat": 4,
 "nbformat_minor": 2
}
