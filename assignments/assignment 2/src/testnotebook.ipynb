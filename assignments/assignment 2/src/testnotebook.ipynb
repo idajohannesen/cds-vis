{
 "cells": [
  {
   "cell_type": "markdown",
   "metadata": {},
   "source": [
    "pip install tensorflow"
   ]
  },
  {
   "cell_type": "code",
   "execution_count": 11,
   "metadata": {},
   "outputs": [
    {
     "ename": "ModuleNotFoundError",
     "evalue": "No module named 'utils'",
     "output_type": "error",
     "traceback": [
      "\u001b[0;31m---------------------------------------------------------------------------\u001b[0m",
      "\u001b[0;31mModuleNotFoundError\u001b[0m                       Traceback (most recent call last)",
      "\u001b[1;32m/work/cds-vis/cds-vis/assignments/assignment 2/src/testnotebook.ipynb Cell 2\u001b[0m line \u001b[0;36m9\n\u001b[1;32m      <a href='vscode-notebook-cell://app-5025444-0.cloud.sdu.dk/work/cds-vis/cds-vis/assignments/assignment%202/src/testnotebook.ipynb#W1sdnNjb2RlLXJlbW90ZQ%3D%3D?line=6'>7</a>\u001b[0m \u001b[39mimport\u001b[39;00m \u001b[39mnumpy\u001b[39;00m \u001b[39mas\u001b[39;00m \u001b[39mnp\u001b[39;00m\n\u001b[1;32m      <a href='vscode-notebook-cell://app-5025444-0.cloud.sdu.dk/work/cds-vis/cds-vis/assignments/assignment%202/src/testnotebook.ipynb#W1sdnNjb2RlLXJlbW90ZQ%3D%3D?line=7'>8</a>\u001b[0m \u001b[39m# class util functions\u001b[39;00m\n\u001b[0;32m----> <a href='vscode-notebook-cell://app-5025444-0.cloud.sdu.dk/work/cds-vis/cds-vis/assignments/assignment%202/src/testnotebook.ipynb#W1sdnNjb2RlLXJlbW90ZQ%3D%3D?line=8'>9</a>\u001b[0m \u001b[39mfrom\u001b[39;00m \u001b[39mutils\u001b[39;00m\u001b[39m.\u001b[39;00m\u001b[39mimutils\u001b[39;00m \u001b[39mimport\u001b[39;00m jimshow \u001b[39mas\u001b[39;00m show\n\u001b[1;32m     <a href='vscode-notebook-cell://app-5025444-0.cloud.sdu.dk/work/cds-vis/cds-vis/assignments/assignment%202/src/testnotebook.ipynb#W1sdnNjb2RlLXJlbW90ZQ%3D%3D?line=9'>10</a>\u001b[0m \u001b[39mfrom\u001b[39;00m \u001b[39mutils\u001b[39;00m\u001b[39m.\u001b[39;00m\u001b[39mimutils\u001b[39;00m \u001b[39mimport\u001b[39;00m jimshow_channel \u001b[39mas\u001b[39;00m show_channel\n\u001b[1;32m     <a href='vscode-notebook-cell://app-5025444-0.cloud.sdu.dk/work/cds-vis/cds-vis/assignments/assignment%202/src/testnotebook.ipynb#W1sdnNjb2RlLXJlbW90ZQ%3D%3D?line=11'>12</a>\u001b[0m \u001b[39m# cifar10 dataset\u001b[39;00m\n",
      "\u001b[0;31mModuleNotFoundError\u001b[0m: No module named 'utils'"
     ]
    }
   ],
   "source": [
    "import os\n",
    "import sys\n",
    "sys.path.append(\"../../\")\n",
    "# openCV\n",
    "import cv2\n",
    "# numpy\n",
    "import numpy as np\n",
    "# class util functions\n",
    "#from utils.imutils import jimshow as show\n",
    "#from utils.imutils import jimshow_channel as show_channel\n",
    "\n",
    "# cifar10 dataset\n",
    "from tensorflow.keras.datasets import cifar10"
   ]
  },
  {
   "cell_type": "code",
   "execution_count": 2,
   "metadata": {},
   "outputs": [],
   "source": [
    "(X_train, y_train), (X_test, y_test) = cifar10.load_data()"
   ]
  },
  {
   "cell_type": "code",
   "execution_count": 10,
   "metadata": {},
   "outputs": [
    {
     "data": {
      "text/plain": [
       "numpy.ndarray"
      ]
     },
     "execution_count": 10,
     "metadata": {},
     "output_type": "execute_result"
    }
   ],
   "source": [
    "X_list=[]\n",
    "\n",
    "for image in X_train:\n",
    "    gray_image = cv2.cvtColor(image, cv2.COLOR_BGR2GRAY) # convert to grayscale\n",
    "    normalized = gray_image/255 # normalize\n",
    "    X_list.append(normalized) # add to list\n",
    "X_preprocess_array = np.array(X_list) # turn list back into an array\n",
    "# reshape\n",
    "X_preprocess_array.reshape(-1, 1024)\n",
    "\n",
    "type(image)"
   ]
  }
 ],
 "metadata": {
  "kernelspec": {
   "display_name": "Python 3",
   "language": "python",
   "name": "python3"
  },
  "language_info": {
   "codemirror_mode": {
    "name": "ipython",
    "version": 3
   },
   "file_extension": ".py",
   "mimetype": "text/x-python",
   "name": "python",
   "nbconvert_exporter": "python",
   "pygments_lexer": "ipython3",
   "version": "3.10.12"
  }
 },
 "nbformat": 4,
 "nbformat_minor": 2
}
