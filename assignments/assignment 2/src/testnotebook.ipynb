{
 "cells": [
  {
   "cell_type": "markdown",
   "metadata": {},
   "source": [
    "pip install tensorflow"
   ]
  },
  {
   "cell_type": "code",
   "execution_count": 27,
   "metadata": {},
   "outputs": [
    {
     "ename": "ModuleNotFoundError",
     "evalue": "No module named 'utils'",
     "output_type": "error",
     "traceback": [
      "\u001b[0;31m---------------------------------------------------------------------------\u001b[0m",
      "\u001b[0;31mModuleNotFoundError\u001b[0m                       Traceback (most recent call last)",
      "\u001b[1;32m/work/cds-vis/cds-vis/assignments/assignment 2/src/testnotebook.ipynb Cell 2\u001b[0m line \u001b[0;36m1\n\u001b[1;32m      <a href='vscode-notebook-cell://app-5025444-0.cloud.sdu.dk/work/cds-vis/cds-vis/assignments/assignment%202/src/testnotebook.ipynb#W1sdnNjb2RlLXJlbW90ZQ%3D%3D?line=6'>7</a>\u001b[0m \u001b[39mimport\u001b[39;00m \u001b[39mnumpy\u001b[39;00m \u001b[39mas\u001b[39;00m \u001b[39mnp\u001b[39;00m\n\u001b[1;32m      <a href='vscode-notebook-cell://app-5025444-0.cloud.sdu.dk/work/cds-vis/cds-vis/assignments/assignment%202/src/testnotebook.ipynb#W1sdnNjb2RlLXJlbW90ZQ%3D%3D?line=7'>8</a>\u001b[0m \u001b[39m# class util functions\u001b[39;00m\n\u001b[1;32m      <a href='vscode-notebook-cell://app-5025444-0.cloud.sdu.dk/work/cds-vis/cds-vis/assignments/assignment%202/src/testnotebook.ipynb#W1sdnNjb2RlLXJlbW90ZQ%3D%3D?line=8'>9</a>\u001b[0m \u001b[39m#from utils.imutils import jimshow as show\u001b[39;00m\n\u001b[1;32m     <a href='vscode-notebook-cell://app-5025444-0.cloud.sdu.dk/work/cds-vis/cds-vis/assignments/assignment%202/src/testnotebook.ipynb#W1sdnNjb2RlLXJlbW90ZQ%3D%3D?line=9'>10</a>\u001b[0m \u001b[39m#from utils.imutils import jimshow_channel as show_channel\u001b[39;00m\n\u001b[0;32m---> <a href='vscode-notebook-cell://app-5025444-0.cloud.sdu.dk/work/cds-vis/cds-vis/assignments/assignment%202/src/testnotebook.ipynb#W1sdnNjb2RlLXJlbW90ZQ%3D%3D?line=10'>11</a>\u001b[0m \u001b[39mimport\u001b[39;00m \u001b[39mutils\u001b[39;00m\u001b[39m.\u001b[39;00m\u001b[39mclassifier_utils\u001b[39;00m \u001b[39mas\u001b[39;00m \u001b[39mclf_util\u001b[39;00m\n\u001b[1;32m     <a href='vscode-notebook-cell://app-5025444-0.cloud.sdu.dk/work/cds-vis/cds-vis/assignments/assignment%202/src/testnotebook.ipynb#W1sdnNjb2RlLXJlbW90ZQ%3D%3D?line=12'>13</a>\u001b[0m \u001b[39m# Import sklearn metrics\u001b[39;00m\n\u001b[1;32m     <a href='vscode-notebook-cell://app-5025444-0.cloud.sdu.dk/work/cds-vis/cds-vis/assignments/assignment%202/src/testnotebook.ipynb#W1sdnNjb2RlLXJlbW90ZQ%3D%3D?line=13'>14</a>\u001b[0m \u001b[39mfrom\u001b[39;00m \u001b[39msklearn\u001b[39;00m \u001b[39mimport\u001b[39;00m metrics\n",
      "\u001b[0;31mModuleNotFoundError\u001b[0m: No module named 'utils'"
     ]
    }
   ],
   "source": [
    "import os\n",
    "import sys\n",
    "sys.path.append(\"../../\")\n",
    "# openCV\n",
    "import cv2\n",
    "# numpy\n",
    "import numpy as np\n",
    "# class util functions\n",
    "#from utils.imutils import jimshow as show\n",
    "#from utils.imutils import jimshow_channel as show_channel\n",
    "#import utils.classifier_utils as clf_util\n",
    "\n",
    "# Import sklearn metrics\n",
    "from sklearn import metrics\n",
    "from sklearn.datasets import fetch_openml\n",
    "from sklearn.model_selection import train_test_split\n",
    "from sklearn.linear_model import LogisticRegression\n",
    "from sklearn.metrics import accuracy_score\n",
    "\n",
    "# cifar10 dataset\n",
    "from tensorflow.keras.datasets import cifar10"
   ]
  },
  {
   "cell_type": "code",
   "execution_count": 22,
   "metadata": {},
   "outputs": [],
   "source": [
    "(X_train, y_train), (X_test, y_test) = cifar10.load_data()"
   ]
  },
  {
   "cell_type": "code",
   "execution_count": 28,
   "metadata": {},
   "outputs": [
    {
     "ename": "NameError",
     "evalue": "name 'dog' is not defined",
     "output_type": "error",
     "traceback": [
      "\u001b[0;31m---------------------------------------------------------------------------\u001b[0m",
      "\u001b[0;31mNameError\u001b[0m                                 Traceback (most recent call last)",
      "\u001b[1;32m/work/cds-vis/cds-vis/assignments/assignment 2/src/testnotebook.ipynb Cell 4\u001b[0m line \u001b[0;36m2\n\u001b[1;32m      <a href='vscode-notebook-cell://app-5025444-0.cloud.sdu.dk/work/cds-vis/cds-vis/assignments/assignment%202/src/testnotebook.ipynb#X10sdnNjb2RlLXJlbW90ZQ%3D%3D?line=0'>1</a>\u001b[0m \u001b[39m# define labels\u001b[39;00m\n\u001b[0;32m----> <a href='vscode-notebook-cell://app-5025444-0.cloud.sdu.dk/work/cds-vis/cds-vis/assignments/assignment%202/src/testnotebook.ipynb#X10sdnNjb2RlLXJlbW90ZQ%3D%3D?line=1'>2</a>\u001b[0m classes \u001b[39m=\u001b[39m [dog, frog, cat]\n\u001b[1;32m      <a href='vscode-notebook-cell://app-5025444-0.cloud.sdu.dk/work/cds-vis/cds-vis/assignments/assignment%202/src/testnotebook.ipynb#X10sdnNjb2RlLXJlbW90ZQ%3D%3D?line=2'>3</a>\u001b[0m classes\n",
      "\u001b[0;31mNameError\u001b[0m: name 'dog' is not defined"
     ]
    }
   ],
   "source": [
    "# define labels\n",
    "classes = [dog, frog, cat]\n",
    "classes"
   ]
  },
  {
   "cell_type": "code",
   "execution_count": 24,
   "metadata": {},
   "outputs": [
    {
     "data": {
      "text/plain": [
       "numpy.ndarray"
      ]
     },
     "execution_count": 24,
     "metadata": {},
     "output_type": "execute_result"
    }
   ],
   "source": [
    "X_list=[]\n",
    "\n",
    "for image in X_train:\n",
    "    gray_image = cv2.cvtColor(image, cv2.COLOR_BGR2GRAY) # convert to grayscale\n",
    "    normalized = gray_image/255 # normalize\n",
    "    X_list.append(normalized) # add to list\n",
    "X_preprocess_array = np.array(X_list) # turn list back into an array\n",
    "# reshape\n",
    "X_preprocess_train = X_preprocess_array.reshape(-1, 1024)\n",
    "\n",
    "type(image)"
   ]
  },
  {
   "cell_type": "code",
   "execution_count": 25,
   "metadata": {},
   "outputs": [
    {
     "name": "stderr",
     "output_type": "stream",
     "text": [
      "/home/ucloud/.local/lib/python3.10/site-packages/sklearn/utils/validation.py:1300: DataConversionWarning: A column-vector y was passed when a 1d array was expected. Please change the shape of y to (n_samples, ), for example using ravel().\n",
      "  y = column_or_1d(y, warn=True)\n"
     ]
    }
   ],
   "source": [
    "# making a logistic regression classifier\n",
    "clf = LogisticRegression(tol=0.1, \n",
    "                         solver='saga',\n",
    "                         multi_class='multinomial').fit(X_preprocess_train, y_train)"
   ]
  },
  {
   "cell_type": "code",
   "execution_count": 26,
   "metadata": {},
   "outputs": [
    {
     "ename": "NameError",
     "evalue": "name 'clf_util' is not defined",
     "output_type": "error",
     "traceback": [
      "\u001b[0;31m---------------------------------------------------------------------------\u001b[0m",
      "\u001b[0;31mNameError\u001b[0m                                 Traceback (most recent call last)",
      "\u001b[1;32m/work/cds-vis/cds-vis/assignments/assignment 2/src/testnotebook.ipynb Cell 6\u001b[0m line \u001b[0;36m1\n\u001b[0;32m----> <a href='vscode-notebook-cell://app-5025444-0.cloud.sdu.dk/work/cds-vis/cds-vis/assignments/assignment%202/src/testnotebook.ipynb#W5sdnNjb2RlLXJlbW90ZQ%3D%3D?line=0'>1</a>\u001b[0m clf_util\u001b[39m.\u001b[39mplot_individual(X_preprocess_train, \n\u001b[1;32m      <a href='vscode-notebook-cell://app-5025444-0.cloud.sdu.dk/work/cds-vis/cds-vis/assignments/assignment%202/src/testnotebook.ipynb#W5sdnNjb2RlLXJlbW90ZQ%3D%3D?line=1'>2</a>\u001b[0m                          y_test, \n\u001b[1;32m      <a href='vscode-notebook-cell://app-5025444-0.cloud.sdu.dk/work/cds-vis/cds-vis/assignments/assignment%202/src/testnotebook.ipynb#W5sdnNjb2RlLXJlbW90ZQ%3D%3D?line=2'>3</a>\u001b[0m                          \u001b[39m50\u001b[39m)\n",
      "\u001b[0;31mNameError\u001b[0m: name 'clf_util' is not defined"
     ]
    }
   ],
   "source": [
    "# try and predict the class of a data point\n",
    "clf_util.plot_individual(X_preprocess_train, \n",
    "                         y_test, \n",
    "                         50)"
   ]
  }
 ],
 "metadata": {
  "kernelspec": {
   "display_name": "Python 3",
   "language": "python",
   "name": "python3"
  },
  "language_info": {
   "codemirror_mode": {
    "name": "ipython",
    "version": 3
   },
   "file_extension": ".py",
   "mimetype": "text/x-python",
   "name": "python",
   "nbconvert_exporter": "python",
   "pygments_lexer": "ipython3",
   "version": "3.10.12"
  }
 },
 "nbformat": 4,
 "nbformat_minor": 2
}
