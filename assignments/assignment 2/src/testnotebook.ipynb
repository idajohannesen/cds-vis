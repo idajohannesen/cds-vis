{
 "cells": [
  {
   "cell_type": "markdown",
   "metadata": {},
   "source": [
    "pip install tensorflow"
   ]
  },
  {
   "cell_type": "code",
   "execution_count": 15,
   "metadata": {},
   "outputs": [],
   "source": [
    "import os\n",
    "import sys\n",
    "sys.path.append(\"../../..\")\n",
    "# openCV\n",
    "import cv2\n",
    "# numpy\n",
    "import numpy as np\n",
    "# matplotlib\n",
    "import matplotlib.pyplot as plt\n",
    "# class util functions\n",
    "from utils.imutils import jimshow as show\n",
    "from utils.imutils import jimshow_channel as show_channel\n",
    "import utils.classifier_utils as clf_util\n",
    "\n",
    "# Import sklearn metrics\n",
    "from sklearn import metrics\n",
    "from sklearn.datasets import fetch_openml\n",
    "from sklearn.model_selection import train_test_split\n",
    "from sklearn.linear_model import LogisticRegression\n",
    "from sklearn.neural_network import MLPClassifier\n",
    "from sklearn.metrics import accuracy_score\n",
    "\n",
    "# cifar10 dataset\n",
    "from tensorflow.keras.datasets import cifar10"
   ]
  },
  {
   "cell_type": "code",
   "execution_count": 2,
   "metadata": {},
   "outputs": [],
   "source": [
    "# loading the cifar10 dataset\n",
    "(X_train, y_train), (X_test, y_test) = cifar10.load_data()"
   ]
  },
  {
   "cell_type": "code",
   "execution_count": 3,
   "metadata": {},
   "outputs": [
    {
     "data": {
      "image/png": "[encoded data removed]",
      "text/plain": [
       "<Figure size 640x480 with 1 Axes>"
      ]
     },
     "metadata": {},
     "output_type": "display_data"
    },
    {
     "data": {
      "text/plain": [
       "array([9], dtype=uint8)"
      ]
     },
     "execution_count": 3,
     "metadata": {},
     "output_type": "execute_result"
    }
   ],
   "source": [
    "plt.imshow(X_train[50])\n",
    "plt.show()\n",
    "y_train[50]"
   ]
  },
  {
   "cell_type": "code",
   "execution_count": null,
   "metadata": {},
   "outputs": [],
   "source": [
    "# define labels\n",
    "classes = [dog, frog, cat]\n",
    "classes"
   ]
  },
  {
   "cell_type": "markdown",
   "metadata": {},
   "source": [
    "question: should we preprocess the testing data?"
   ]
  },
  {
   "cell_type": "code",
   "execution_count": 8,
   "metadata": {},
   "outputs": [
    {
     "data": {
      "text/plain": [
       "(10000, 1024)"
      ]
     },
     "execution_count": 8,
     "metadata": {},
     "output_type": "execute_result"
    }
   ],
   "source": [
    "X_train_list=[]\n",
    "X_test_list=[]\n",
    "\n",
    "for image in X_test: # preprocessing the testing images\n",
    "    gray_test = cv2.cvtColor(image, cv2.COLOR_BGR2GRAY) # convert to grayscale\n",
    "    normalized = gray_test/255 # normalize\n",
    "    X_test_list.append(normalized) # add to list\n",
    "X_preprocess_test_array = np.array(X_test_list) # turn list back into an array\n",
    "# reshape\n",
    "X_preprocess_test = X_preprocess_test_array.reshape(-1, 1024)\n",
    "\n",
    "for image in X_train: # preprocessing the training images\n",
    "    gray_train = cv2.cvtColor(image, cv2.COLOR_BGR2GRAY) # convert to grayscale\n",
    "    normalized = gray_train/255 # normalize\n",
    "    X_train_list.append(normalized) # add to list\n",
    "X_preprocess_train_array = np.array(X_train_list) # turn list back into an array\n",
    "# reshape\n",
    "X_preprocess_train = X_preprocess_train_array.reshape(-1, 1024)\n",
    "\n",
    "X_preprocess_train.shape\n",
    "X_preprocess_test.shape"
   ]
  },
  {
   "cell_type": "code",
   "execution_count": null,
   "metadata": {},
   "outputs": [],
   "source": [
    "# View an image\n",
    "# plt.imshow(X_preprocess_train[0])\n",
    "# plt.show()"
   ]
  },
  {
   "cell_type": "code",
   "execution_count": 5,
   "metadata": {},
   "outputs": [
    {
     "name": "stderr",
     "output_type": "stream",
     "text": [
      "/home/ucloud/.local/lib/python3.10/site-packages/sklearn/utils/validation.py:1300: DataConversionWarning: A column-vector y was passed when a 1d array was expected. Please change the shape of y to (n_samples, ), for example using ravel().\n",
      "  y = column_or_1d(y, warn=True)\n"
     ]
    }
   ],
   "source": [
    "# making a logistic regression classifier\n",
    "clf = LogisticRegression(tol=0.1, \n",
    "                         solver='saga',\n",
    "                         multi_class='multinomial').fit(X_preprocess_train, y_train)"
   ]
  },
  {
   "cell_type": "code",
   "execution_count": null,
   "metadata": {},
   "outputs": [],
   "source": [
    "#classes = ['airplane', 'automobile', 'bird', 'cat', 'deer', 'dog', 'frog', 'horse', 'ship', 'truck']\n",
    "#classes = sorted(set(y_train))"
   ]
  },
  {
   "cell_type": "code",
   "execution_count": 9,
   "metadata": {},
   "outputs": [
    {
     "name": "stdout",
     "output_type": "stream",
     "text": [
      "              precision    recall  f1-score   support\n",
      "\n",
      "           0       0.34      0.39      0.36      1000\n",
      "           1       0.36      0.40      0.38      1000\n",
      "           2       0.26      0.22      0.24      1000\n",
      "           3       0.22      0.16      0.19      1000\n",
      "           4       0.25      0.23      0.24      1000\n",
      "           5       0.34      0.27      0.30      1000\n",
      "           6       0.28      0.31      0.29      1000\n",
      "           7       0.32      0.32      0.32      1000\n",
      "           8       0.33      0.40      0.36      1000\n",
      "           9       0.39      0.44      0.41      1000\n",
      "\n",
      "    accuracy                           0.31     10000\n",
      "   macro avg       0.31      0.31      0.31     10000\n",
      "weighted avg       0.31      0.31      0.31     10000\n",
      "\n"
     ]
    }
   ],
   "source": [
    "# testing accuracy and making a classification report for the logistic regression classifier\n",
    "y_pred = clf.predict(X_preprocess_test)\n",
    "cm = metrics.classification_report(y_test, y_pred)\n",
    "print(cm)"
   ]
  },
  {
   "cell_type": "code",
   "execution_count": 13,
   "metadata": {},
   "outputs": [
    {
     "ename": "ValueError",
     "evalue": "cannot reshape array of size 1024 into shape (28,28)",
     "output_type": "error",
     "traceback": [
      "\u001b[0;31m---------------------------------------------------------------------------\u001b[0m",
      "\u001b[0;31mValueError\u001b[0m                                Traceback (most recent call last)",
      "\u001b[1;32m/work/Visual Analytics/cds-vis/cds-vis/assignments/assignment 2/src/testnotebook.ipynb Cell 12\u001b[0m line \u001b[0;36m2\n\u001b[1;32m      <a href='vscode-notebook-cell://app-5026192-0.cloud.sdu.dk/work/Visual%20Analytics/cds-vis/cds-vis/assignments/assignment%202/src/testnotebook.ipynb#W6sdnNjb2RlLXJlbW90ZQ%3D%3D?line=0'>1</a>\u001b[0m \u001b[39m# try and predict the class of a data point\u001b[39;00m\n\u001b[0;32m----> <a href='vscode-notebook-cell://app-5026192-0.cloud.sdu.dk/work/Visual%20Analytics/cds-vis/cds-vis/assignments/assignment%202/src/testnotebook.ipynb#W6sdnNjb2RlLXJlbW90ZQ%3D%3D?line=1'>2</a>\u001b[0m clf_util\u001b[39m.\u001b[39;49mplot_individual(X_preprocess_train, \n\u001b[1;32m      <a href='vscode-notebook-cell://app-5026192-0.cloud.sdu.dk/work/Visual%20Analytics/cds-vis/cds-vis/assignments/assignment%202/src/testnotebook.ipynb#W6sdnNjb2RlLXJlbW90ZQ%3D%3D?line=2'>3</a>\u001b[0m                          y_test, \n\u001b[1;32m      <a href='vscode-notebook-cell://app-5026192-0.cloud.sdu.dk/work/Visual%20Analytics/cds-vis/cds-vis/assignments/assignment%202/src/testnotebook.ipynb#W6sdnNjb2RlLXJlbW90ZQ%3D%3D?line=3'>4</a>\u001b[0m                          \u001b[39m50\u001b[39;49m)\n",
      "File \u001b[0;32m/work/Visual Analytics/cds-vis/cds-vis/assignments/assignment 2/src/../../../utils/classifier_utils.py:66\u001b[0m, in \u001b[0;36mplot_individual\u001b[0;34m(X, y, sample_idx)\u001b[0m\n\u001b[1;32m     58\u001b[0m \u001b[39m\u001b[39m\u001b[39m\"\"\"\u001b[39;00m\n\u001b[1;32m     59\u001b[0m \u001b[39mShow individual data point\u001b[39;00m\n\u001b[1;32m     60\u001b[0m \u001b[39m\u001b[39;00m\n\u001b[0;32m   (...)\u001b[0m\n\u001b[1;32m     63\u001b[0m \u001b[39msample_idx: index of sample to be plotted \u001b[39;00m\n\u001b[1;32m     64\u001b[0m \u001b[39m\"\"\"\u001b[39;00m\n\u001b[1;32m     65\u001b[0m \u001b[39m#plotting image\u001b[39;00m\n\u001b[0;32m---> 66\u001b[0m plt\u001b[39m.\u001b[39mimshow(X[sample_idx]\u001b[39m.\u001b[39;49mreshape(\u001b[39m28\u001b[39;49m,\u001b[39m28\u001b[39;49m), cmap\u001b[39m=\u001b[39m\u001b[39m'\u001b[39m\u001b[39mgray\u001b[39m\u001b[39m'\u001b[39m)\n\u001b[1;32m     67\u001b[0m plt\u001b[39m.\u001b[39mtitle(\u001b[39mf\u001b[39m\u001b[39m'\u001b[39m\u001b[39mLabel: \u001b[39m\u001b[39m{\u001b[39;00my[sample_idx]\u001b[39m}\u001b[39;00m\u001b[39m\\n\u001b[39;00m\u001b[39m'\u001b[39m)\n\u001b[1;32m     68\u001b[0m plt\u001b[39m.\u001b[39maxis(\u001b[39m'\u001b[39m\u001b[39moff\u001b[39m\u001b[39m'\u001b[39m)\n",
      "\u001b[0;31mValueError\u001b[0m: cannot reshape array of size 1024 into shape (28,28)"
     ]
    }
   ],
   "source": [
    "# try and predict the class of a data point\n",
    "clf_util.plot_individual(X_preprocess_train, \n",
    "                         y_test, \n",
    "                         50)"
   ]
  },
  {
   "cell_type": "code",
   "execution_count": 16,
   "metadata": {},
   "outputs": [
    {
     "name": "stderr",
     "output_type": "stream",
     "text": [
      "/home/ucloud/.local/lib/python3.10/site-packages/sklearn/neural_network/_multilayer_perceptron.py:1101: DataConversionWarning: A column-vector y was passed when a 1d array was expected. Please change the shape of y to (n_samples, ), for example using ravel().\n",
      "  y = column_or_1d(y, warn=True)\n",
      "/home/ucloud/.local/lib/python3.10/site-packages/sklearn/neural_network/_multilayer_perceptron.py:698: UserWarning: Training interrupted by user.\n",
      "  warnings.warn(\"Training interrupted by user.\")\n"
     ]
    },
    {
     "ename": "ValueError",
     "evalue": "At least one label specified must be in y_true",
     "output_type": "error",
     "traceback": [
      "\u001b[0;31m---------------------------------------------------------------------------\u001b[0m",
      "\u001b[0;31mValueError\u001b[0m                                Traceback (most recent call last)",
      "\u001b[1;32m/work/Visual Analytics/cds-vis/cds-vis/assignments/assignment 2/src/testnotebook.ipynb Cell 13\u001b[0m line \u001b[0;36m1\n\u001b[1;32m     <a href='vscode-notebook-cell://app-5026192-0.cloud.sdu.dk/work/Visual%20Analytics/cds-vis/cds-vis/assignments/assignment%202/src/testnotebook.ipynb#X23sdnNjb2RlLXJlbW90ZQ%3D%3D?line=12'>13</a>\u001b[0m y_pred \u001b[39m=\u001b[39m classifier\u001b[39m.\u001b[39mpredict(X_preprocess_test)\n\u001b[1;32m     <a href='vscode-notebook-cell://app-5026192-0.cloud.sdu.dk/work/Visual%20Analytics/cds-vis/cds-vis/assignments/assignment%202/src/testnotebook.ipynb#X23sdnNjb2RlLXJlbW90ZQ%3D%3D?line=14'>15</a>\u001b[0m \u001b[39m# use confusion matrix to check performance\u001b[39;00m\n\u001b[0;32m---> <a href='vscode-notebook-cell://app-5026192-0.cloud.sdu.dk/work/Visual%20Analytics/cds-vis/cds-vis/assignments/assignment%202/src/testnotebook.ipynb#X23sdnNjb2RlLXJlbW90ZQ%3D%3D?line=15'>16</a>\u001b[0m metrics\u001b[39m.\u001b[39;49mConfusionMatrixDisplay\u001b[39m.\u001b[39;49mfrom_estimator(classifier,           \u001b[39m# the classifier name\u001b[39;49;00m\n\u001b[1;32m     <a href='vscode-notebook-cell://app-5026192-0.cloud.sdu.dk/work/Visual%20Analytics/cds-vis/cds-vis/assignments/assignment%202/src/testnotebook.ipynb#X23sdnNjb2RlLXJlbW90ZQ%3D%3D?line=16'>17</a>\u001b[0m                                             X_preprocess_train,     \u001b[39m# the training features\u001b[39;49;00m\n\u001b[1;32m     <a href='vscode-notebook-cell://app-5026192-0.cloud.sdu.dk/work/Visual%20Analytics/cds-vis/cds-vis/assignments/assignment%202/src/testnotebook.ipynb#X23sdnNjb2RlLXJlbW90ZQ%3D%3D?line=17'>18</a>\u001b[0m                                             y_train,                \u001b[39m# the training labels\u001b[39;49;00m\n\u001b[1;32m     <a href='vscode-notebook-cell://app-5026192-0.cloud.sdu.dk/work/Visual%20Analytics/cds-vis/cds-vis/assignments/assignment%202/src/testnotebook.ipynb#X23sdnNjb2RlLXJlbW90ZQ%3D%3D?line=18'>19</a>\u001b[0m                                             cmap\u001b[39m=\u001b[39;49mplt\u001b[39m.\u001b[39;49mcm\u001b[39m.\u001b[39;49mBlues,      \u001b[39m# make the colours prettier\u001b[39;49;00m\n\u001b[1;32m     <a href='vscode-notebook-cell://app-5026192-0.cloud.sdu.dk/work/Visual%20Analytics/cds-vis/cds-vis/assignments/assignment%202/src/testnotebook.ipynb#X23sdnNjb2RlLXJlbW90ZQ%3D%3D?line=19'>20</a>\u001b[0m                                             labels\u001b[39m=\u001b[39;49m[\u001b[39m\"\u001b[39;49m\u001b[39mFAKE\u001b[39;49m\u001b[39m\"\u001b[39;49m, \u001b[39m\"\u001b[39;49m\u001b[39mREAL\u001b[39;49m\u001b[39m\"\u001b[39;49m])\u001b[39m# the labels in the data arranged alphabetically\u001b[39;00m\n\u001b[1;32m     <a href='vscode-notebook-cell://app-5026192-0.cloud.sdu.dk/work/Visual%20Analytics/cds-vis/cds-vis/assignments/assignment%202/src/testnotebook.ipynb#X23sdnNjb2RlLXJlbW90ZQ%3D%3D?line=21'>22</a>\u001b[0m \u001b[39m# get classification report\u001b[39;00m\n\u001b[1;32m     <a href='vscode-notebook-cell://app-5026192-0.cloud.sdu.dk/work/Visual%20Analytics/cds-vis/cds-vis/assignments/assignment%202/src/testnotebook.ipynb#X23sdnNjb2RlLXJlbW90ZQ%3D%3D?line=22'>23</a>\u001b[0m classifier_metrics \u001b[39m=\u001b[39m metrics\u001b[39m.\u001b[39mclassification_report(y_test, y_pred)\n",
      "File \u001b[0;32m~/.local/lib/python3.10/site-packages/sklearn/metrics/_plot/confusion_matrix.py:322\u001b[0m, in \u001b[0;36mConfusionMatrixDisplay.from_estimator\u001b[0;34m(cls, estimator, X, y, labels, sample_weight, normalize, display_labels, include_values, xticks_rotation, values_format, cmap, ax, colorbar, im_kw, text_kw)\u001b[0m\n\u001b[1;32m    319\u001b[0m     \u001b[39mraise\u001b[39;00m \u001b[39mValueError\u001b[39;00m(\u001b[39mf\u001b[39m\u001b[39m\"\u001b[39m\u001b[39m{\u001b[39;00mmethod_name\u001b[39m}\u001b[39;00m\u001b[39m only supports classifiers\u001b[39m\u001b[39m\"\u001b[39m)\n\u001b[1;32m    320\u001b[0m y_pred \u001b[39m=\u001b[39m estimator\u001b[39m.\u001b[39mpredict(X)\n\u001b[0;32m--> 322\u001b[0m \u001b[39mreturn\u001b[39;00m \u001b[39mcls\u001b[39;49m\u001b[39m.\u001b[39;49mfrom_predictions(\n\u001b[1;32m    323\u001b[0m     y,\n\u001b[1;32m    324\u001b[0m     y_pred,\n\u001b[1;32m    325\u001b[0m     sample_weight\u001b[39m=\u001b[39;49msample_weight,\n\u001b[1;32m    326\u001b[0m     labels\u001b[39m=\u001b[39;49mlabels,\n\u001b[1;32m    327\u001b[0m     normalize\u001b[39m=\u001b[39;49mnormalize,\n\u001b[1;32m    328\u001b[0m     display_labels\u001b[39m=\u001b[39;49mdisplay_labels,\n\u001b[1;32m    329\u001b[0m     include_values\u001b[39m=\u001b[39;49minclude_values,\n\u001b[1;32m    330\u001b[0m     cmap\u001b[39m=\u001b[39;49mcmap,\n\u001b[1;32m    331\u001b[0m     ax\u001b[39m=\u001b[39;49max,\n\u001b[1;32m    332\u001b[0m     xticks_rotation\u001b[39m=\u001b[39;49mxticks_rotation,\n\u001b[1;32m    333\u001b[0m     values_format\u001b[39m=\u001b[39;49mvalues_format,\n\u001b[1;32m    334\u001b[0m     colorbar\u001b[39m=\u001b[39;49mcolorbar,\n\u001b[1;32m    335\u001b[0m     im_kw\u001b[39m=\u001b[39;49mim_kw,\n\u001b[1;32m    336\u001b[0m     text_kw\u001b[39m=\u001b[39;49mtext_kw,\n\u001b[1;32m    337\u001b[0m )\n",
      "File \u001b[0;32m~/.local/lib/python3.10/site-packages/sklearn/metrics/_plot/confusion_matrix.py:463\u001b[0m, in \u001b[0;36mConfusionMatrixDisplay.from_predictions\u001b[0;34m(cls, y_true, y_pred, labels, sample_weight, normalize, display_labels, include_values, xticks_rotation, values_format, cmap, ax, colorbar, im_kw, text_kw)\u001b[0m\n\u001b[1;32m    460\u001b[0m     \u001b[39melse\u001b[39;00m:\n\u001b[1;32m    461\u001b[0m         display_labels \u001b[39m=\u001b[39m labels\n\u001b[0;32m--> 463\u001b[0m cm \u001b[39m=\u001b[39m confusion_matrix(\n\u001b[1;32m    464\u001b[0m     y_true,\n\u001b[1;32m    465\u001b[0m     y_pred,\n\u001b[1;32m    466\u001b[0m     sample_weight\u001b[39m=\u001b[39;49msample_weight,\n\u001b[1;32m    467\u001b[0m     labels\u001b[39m=\u001b[39;49mlabels,\n\u001b[1;32m    468\u001b[0m     normalize\u001b[39m=\u001b[39;49mnormalize,\n\u001b[1;32m    469\u001b[0m )\n\u001b[1;32m    471\u001b[0m disp \u001b[39m=\u001b[39m \u001b[39mcls\u001b[39m(confusion_matrix\u001b[39m=\u001b[39mcm, display_labels\u001b[39m=\u001b[39mdisplay_labels)\n\u001b[1;32m    473\u001b[0m \u001b[39mreturn\u001b[39;00m disp\u001b[39m.\u001b[39mplot(\n\u001b[1;32m    474\u001b[0m     include_values\u001b[39m=\u001b[39minclude_values,\n\u001b[1;32m    475\u001b[0m     cmap\u001b[39m=\u001b[39mcmap,\n\u001b[0;32m   (...)\u001b[0m\n\u001b[1;32m    481\u001b[0m     text_kw\u001b[39m=\u001b[39mtext_kw,\n\u001b[1;32m    482\u001b[0m )\n",
      "File \u001b[0;32m~/.local/lib/python3.10/site-packages/sklearn/utils/_param_validation.py:213\u001b[0m, in \u001b[0;36mvalidate_params.<locals>.decorator.<locals>.wrapper\u001b[0;34m(*args, **kwargs)\u001b[0m\n\u001b[1;32m    207\u001b[0m \u001b[39mtry\u001b[39;00m:\n\u001b[1;32m    208\u001b[0m     \u001b[39mwith\u001b[39;00m config_context(\n\u001b[1;32m    209\u001b[0m         skip_parameter_validation\u001b[39m=\u001b[39m(\n\u001b[1;32m    210\u001b[0m             prefer_skip_nested_validation \u001b[39mor\u001b[39;00m global_skip_validation\n\u001b[1;32m    211\u001b[0m         )\n\u001b[1;32m    212\u001b[0m     ):\n\u001b[0;32m--> 213\u001b[0m         \u001b[39mreturn\u001b[39;00m func(\u001b[39m*\u001b[39;49margs, \u001b[39m*\u001b[39;49m\u001b[39m*\u001b[39;49mkwargs)\n\u001b[1;32m    214\u001b[0m \u001b[39mexcept\u001b[39;00m InvalidParameterError \u001b[39mas\u001b[39;00m e:\n\u001b[1;32m    215\u001b[0m     \u001b[39m# When the function is just a wrapper around an estimator, we allow\u001b[39;00m\n\u001b[1;32m    216\u001b[0m     \u001b[39m# the function to delegate validation to the estimator, but we replace\u001b[39;00m\n\u001b[1;32m    217\u001b[0m     \u001b[39m# the name of the estimator by the name of the function in the error\u001b[39;00m\n\u001b[1;32m    218\u001b[0m     \u001b[39m# message to avoid confusion.\u001b[39;00m\n\u001b[1;32m    219\u001b[0m     msg \u001b[39m=\u001b[39m re\u001b[39m.\u001b[39msub(\n\u001b[1;32m    220\u001b[0m         \u001b[39mr\u001b[39m\u001b[39m\"\u001b[39m\u001b[39mparameter of \u001b[39m\u001b[39m\\\u001b[39m\u001b[39mw+ must be\u001b[39m\u001b[39m\"\u001b[39m,\n\u001b[1;32m    221\u001b[0m         \u001b[39mf\u001b[39m\u001b[39m\"\u001b[39m\u001b[39mparameter of \u001b[39m\u001b[39m{\u001b[39;00mfunc\u001b[39m.\u001b[39m\u001b[39m__qualname__\u001b[39m\u001b[39m}\u001b[39;00m\u001b[39m must be\u001b[39m\u001b[39m\"\u001b[39m,\n\u001b[1;32m    222\u001b[0m         \u001b[39mstr\u001b[39m(e),\n\u001b[1;32m    223\u001b[0m     )\n",
      "File \u001b[0;32m~/.local/lib/python3.10/site-packages/sklearn/metrics/_classification.py:333\u001b[0m, in \u001b[0;36mconfusion_matrix\u001b[0;34m(y_true, y_pred, labels, sample_weight, normalize)\u001b[0m\n\u001b[1;32m    331\u001b[0m         \u001b[39mreturn\u001b[39;00m np\u001b[39m.\u001b[39mzeros((n_labels, n_labels), dtype\u001b[39m=\u001b[39m\u001b[39mint\u001b[39m)\n\u001b[1;32m    332\u001b[0m     \u001b[39melif\u001b[39;00m \u001b[39mlen\u001b[39m(np\u001b[39m.\u001b[39mintersect1d(y_true, labels)) \u001b[39m==\u001b[39m \u001b[39m0\u001b[39m:\n\u001b[0;32m--> 333\u001b[0m         \u001b[39mraise\u001b[39;00m \u001b[39mValueError\u001b[39;00m(\u001b[39m\"\u001b[39m\u001b[39mAt least one label specified must be in y_true\u001b[39m\u001b[39m\"\u001b[39m)\n\u001b[1;32m    335\u001b[0m \u001b[39mif\u001b[39;00m sample_weight \u001b[39mis\u001b[39;00m \u001b[39mNone\u001b[39;00m:\n\u001b[1;32m    336\u001b[0m     sample_weight \u001b[39m=\u001b[39m np\u001b[39m.\u001b[39mones(y_true\u001b[39m.\u001b[39mshape[\u001b[39m0\u001b[39m], dtype\u001b[39m=\u001b[39mnp\u001b[39m.\u001b[39mint64)\n",
      "\u001b[0;31mValueError\u001b[0m: At least one label specified must be in y_true"
     ]
    }
   ],
   "source": [
    "# neural network classifier\n",
    "\n",
    "#create the classifier\n",
    "classifier = MLPClassifier(activation = \"logistic\",\n",
    "                            hidden_layer_sizes = (10,), # 20 neurons in our hidden layer\n",
    "                            max_iter=500, # 1000 epochs\n",
    "                            random_state = 42) # random state for reproducibility\n",
    "\n",
    "# fit the classifier to the data\n",
    "classifier.fit(X_preprocess_train, y_train)\n",
    "\n",
    "# get predictions\n",
    "y_pred = classifier.predict(X_preprocess_test)\n",
    "\n",
    "# use confusion matrix to check performance\n",
    "metrics.ConfusionMatrixDisplay.from_estimator(classifier,           # the classifier name\n",
    "                                            X_preprocess_train,     # the training features\n",
    "                                            y_train,                # the training labels\n",
    "                                            cmap=plt.cm.Blues,      # make the colours prettier\n",
    "                                            labels=[\"FAKE\", \"REAL\"])# the labels in the data arranged alphabetically\n",
    "\n",
    "# get classification report\n",
    "classifier_metrics = metrics.classification_report(y_test, y_pred)\n",
    "print(classifier_metrics)\n",
    "\n",
    "# saving classification report as a .txt file\n",
    "text_file = open(r'../output/MLP_classification_report.txt', 'w')\n",
    "text_file.write(classifier_metrics)\n",
    "text_file.close()\n",
    "\n",
    "# plotting loss curves. should ideally have a smooth, steep downwards slope which ends in a plateau\n",
    "plt.plot(classifier.loss_curve_)\n",
    "plt.title(\"Loss curve during training\", fontsize=14)\n",
    "plt.xlabel('Iterations')\n",
    "plt.ylabel('Loss score')\n",
    "plt.show()"
   ]
  }
 ],
 "metadata": {
  "kernelspec": {
   "display_name": "Python 3",
   "language": "python",
   "name": "python3"
  },
  "language_info": {
   "codemirror_mode": {
    "name": "ipython",
    "version": 3
   },
   "file_extension": ".py",
   "mimetype": "text/x-python",
   "name": "python",
   "nbconvert_exporter": "python",
   "pygments_lexer": "ipython3",
   "version": "3.10.12"
  }
 },
 "nbformat": 4,
 "nbformat_minor": 2
}
